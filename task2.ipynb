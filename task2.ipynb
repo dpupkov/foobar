{
 "cells": [
  {
   "cell_type": "code",
   "execution_count": 3,
   "metadata": {},
   "outputs": [],
   "source": [
    "import random"
   ]
  },
  {
   "cell_type": "code",
   "execution_count": 1,
   "metadata": {},
   "outputs": [],
   "source": [
    "def solution(xs):\n",
    "    \n",
    "    if len(xs) == 1 and xs[0] < 0:\n",
    "        return(str(xs[0]))\n",
    "    \n",
    "    xs = [x for x in xs if x != 0]\n",
    "    xs_negative = [x for x in xs if x < 0]\n",
    "    \n",
    "    if len(xs_negative) % 2 == 1:\n",
    "        xs.remove(max(xs_negative))\n",
    "        \n",
    "    if len(xs) == 0:\n",
    "        return('0')\n",
    "        \n",
    "    result = 1\n",
    "    for i in xs:\n",
    "        result *= i\n",
    "\n",
    "    return(str(result))"
   ]
  },
  {
   "cell_type": "code",
   "execution_count": 4,
   "metadata": {},
   "outputs": [
    {
     "name": "stdout",
     "output_type": "stream",
     "text": [
      "solution: [2, 0, 2, 2, 0] 8 <class 'str'>\n",
      "solution: [-2, -3, 4, -5] 60 <class 'str'>\n",
      "solution: [2, -3, 1, 0, -5] 30 <class 'str'>\n",
      "solution: [0, 0, 0, 1] 1 <class 'str'>\n",
      "solution: [-1] -1 <class 'str'>\n",
      "solution: [-1, -1] 1 <class 'str'>\n",
      "solution: [0, 10, 2] 20 <class 'str'>\n",
      "solution: [-1000, 1000] 1000 <class 'str'>\n",
      "solution: [0] 0 <class 'str'>\n",
      "solution: [-1, -1, -2, 4, 3] 24 <class 'str'>\n",
      "solution: [-1, 0] 0 <class 'str'>\n",
      "solution: [163, -986, 997, 526, 848, -149, -302, -541, 686, -624, 62, 340, -983, 351, -74, -96, 734, -98, -125, -777, 580, -960, 732, 991, 178, 11, -505, 497, 639, -31, 777, -649, 121, 713, 757, -452, -62, 36, 705, 840, 942, 972, 81, -984, 371, -863, 270, -238, 909, 684] 19418469861184458111233974896363542718696677234420446952671746931588477890989643537483220488299092450696745354967121920000000000 <class 'str'>\n"
     ]
    }
   ],
   "source": [
    "test_cases = [[2, 0, 2, 2, 0],\n",
    "              [-2, -3, 4, -5],\n",
    "              [2,-3,1,0,-5],\n",
    "              [0, 0, 0, 1],\n",
    "              [-1],\n",
    "              [-1, -1],\n",
    "              [0, 10, 2],\n",
    "              [-1000, 1000],\n",
    "              [0],\n",
    "              [-1, -1, -2, 4, 3] ,\n",
    "              [-1, 0],\n",
    "#              [696, 254, 707, 730, 252, 144, 18, -678, 921, 681, -665, 421, -501, 204, 742, -609, 672, -72, 339, -555, -736, 230, -450, 375, 941, 50, 897, -192, -912, -915, 609, 100, -933, 458, -893, 932, -590, -209, 107, 473, -311, 73, 68, -229, 480, 41, -235, 558, -615, -289, -643]\n",
    "              [random.randint(-1000,1000) for _ in range(50)]\n",
    "             ]\n",
    "for case in test_cases:\n",
    "#    print('case:', case)\n",
    "    sol=solution(case)\n",
    "    print('solution:', case, solution(case), type(solution(case)))\n",
    "#    print('solution:', solution_old(case), type(solution_old(case)))\n",
    "#    print('solution:', solution_new(case), type(solution_new(case)))\n"
   ]
  },
  {
   "cell_type": "code",
   "execution_count": 162,
   "metadata": {
    "scrolled": false
   },
   "outputs": [],
   "source": [
    "def solution_old(xs):\n",
    "#    print('xs: ',xs)\n",
    "    r_positive = list_multiplier([x for x in xs if x > 0])\n",
    "    \n",
    "#    print('positive: ',r_positive)\n",
    "    \n",
    "    xs_negative = [x for x in xs if x < 0]\n",
    "    \n",
    "    if len(xs_negative) % 2 == 1:\n",
    "        xs_negative.remove(max(xs_negative))\n",
    "\n",
    "    r_negative = list_multiplier(xs_negative)\n",
    "        \n",
    "#    print('negative: ',r_negative)\n",
    "    \n",
    "    if r_positive == '0' and r_negative == '0':\n",
    "            return('0')\n",
    "    if r_negative == '0':\n",
    "        r_negative = '1'\n",
    "    if r_positive == '0':\n",
    "        r_positive = '1'\n",
    "#    print(r_negative)\n",
    "    #print(type(r_negative))\n",
    "    \n",
    "#    print(r_positive)\n",
    "#    print(type(r_positive))\n",
    "    return(multiply(r_negative, r_positive))"
   ]
  },
  {
   "cell_type": "code",
   "execution_count": 295,
   "metadata": {},
   "outputs": [],
   "source": [
    "def multiply(num1, num2):\n",
    "    len1 = len(num1)\n",
    "    len2 = len(num2)\n",
    "    if len1 == 0 or len2 == 0:\n",
    "        return \"0\"\n",
    "    result = [0] * (len1 + len2)\n",
    "    i_n1 = 0\n",
    "    i_n2 = 0\n",
    "    for i in range(len1 - 1, -1, -1):\n",
    "        carry = 0\n",
    "        n1 = ord(num1[i]) - 48\n",
    "        i_n2 = 0\n",
    "        for j in range(len2 - 1, -1, -1):\n",
    "            n2 = ord(num2[j]) - 48\n",
    "            summ = n1 * n2 + result[i_n1 + i_n2] + carry\n",
    "            carry = summ // 10\n",
    "            result[i_n1 + i_n2] = summ % 10\n",
    "            i_n2 += 1\n",
    "        if (carry > 0):\n",
    "            result[i_n1 + i_n2] += carry\n",
    "        i_n1 += 1\n",
    "\n",
    "    i = len(result) - 1\n",
    "    while (i >= 0 and result[i] == 0):\n",
    "        i -= 1\n",
    "\n",
    "    if (i == -1):\n",
    "        return \"0\"\n",
    "\n",
    "    s = \"\"\n",
    "    while (i >= 0):\n",
    "        s += chr(result[i] + 48)\n",
    "        i -= 1\n",
    "\n",
    "    return s\n",
    "\n",
    "def list_multiplier(list):\n",
    "    if len(list) == 0:\n",
    "        return('0')\n",
    "    result = '1'\n",
    "    for i in list:\n",
    "        result = multiply(result, str(abs(i)))\n",
    "    return(result)\n",
    "\n",
    "def solution(xs):\n",
    "    xs = [int(x) for x in xs]\n",
    "    \n",
    "    xs_negative = [x for x in xs if x < 0]\n",
    "    \n",
    "    if len(xs) == 1 and xs[0] < 0:\n",
    "        return(str(xs_negative[0]))\n",
    "    \n",
    "    xs = [x for x in xs if x != 0]\n",
    "    \n",
    "    if len(xs_negative) % 2 == 1:\n",
    "        xs.remove(max(xs_negative))\n",
    "        \n",
    "    if len(xs) == 0:\n",
    "        return('0')\n",
    "    return(list_multiplier(xs))"
   ]
  },
  {
   "cell_type": "code",
   "execution_count": 298,
   "metadata": {},
   "outputs": [
    {
     "name": "stdout",
     "output_type": "stream",
     "text": [
      "solution: [2, 0, 2, 2, 0] 8 <class 'str'>\n",
      "solution: [-2, -3, 4, -5] 60 <class 'str'>\n",
      "solution: [2, -3, 1, 0, -5] 30 <class 'str'>\n",
      "solution: [0, 0, 0, 1] 1 <class 'str'>\n",
      "solution: [-1] -1 <class 'str'>\n",
      "solution: [-1, -1] 1 <class 'str'>\n",
      "solution: [0, 10, 2] 20 <class 'str'>\n",
      "solution: [-1000, 1000] 1000 <class 'str'>\n",
      "solution: ['00001'] 1 <class 'str'>\n",
      "solution: [-1, -1, -2, 4, 3] 24 <class 'str'>\n",
      "solution: [-1, 0] 0 <class 'str'>\n",
      "solution: [696, 254, 707, 730, 252, 144, 18, -678, 921, 681, -665, 421, -501, 204, 742, -609, 672, -72, 339, -555, -736, 230, -450, 375, 941, 50, 897, -192, -912, -915, 609, 100, -933, 458, -893, 932, -590, -209, 107, 473, -311, 73, 68, -229, 480, 41, -235, 558, -615, -289, -643] 112783193423281402152205034118008329378739667858292542507576573728129490599296865121439485570310909983291604992000000000000000000 <class 'str'>\n"
     ]
    }
   ],
   "source": [
    "test_cases = [[2, 0, 2, 2, 0],\n",
    "              [-2, -3, 4, -5],\n",
    "              [2,-3,1,0,-5],\n",
    "              [0, 0, 0, 1],\n",
    "              [-1],\n",
    "              [-1, -1],\n",
    "              [0, 10, 2],\n",
    "              [-1000, 1000],\n",
    "              ['00001'],\n",
    "              [-1, -1, -2, 4, 3] ,\n",
    "              [-1, 0],\n",
    "              [696, 254, 707, 730, 252, 144, 18, -678, 921, 681, -665, 421, -501, 204, 742, -609, 672, -72, 339, -555, -736, 230, -450, 375, 941, 50, 897, -192, -912, -915, 609, 100, -933, 458, -893, 932, -590, -209, 107, 473, -311, 73, 68, -229, 480, 41, -235, 558, -615, -289, -643]\n",
    "#              [random.randint(-1000,1000) for _ in range(50)]\n",
    "             ]\n",
    "for case in test_cases:\n",
    "#    print('case:', case)\n",
    "    sol=solution(case)\n",
    "    print('solution:', case, solution(case), type(solution(case)))\n",
    "#    print('solution:', solution_old(case), type(solution_old(case)))\n",
    "#    print('solution:', solution_new(case), type(solution_new(case)))\n"
   ]
  },
  {
   "cell_type": "code",
   "execution_count": 186,
   "metadata": {},
   "outputs": [],
   "source": [
    "def solution_v2(xs):\n",
    "    r_positive = list_multiplier([x for x in xs if x > 0])\n",
    "    xs_negative = [x for x in xs if x < 0]\n",
    "    if len(xs_negative) % 2 == 1:\n",
    "        xs_negative.remove(max(xs_negative))\n",
    "    r_negative = list_multiplier(xs_negative)\n",
    "    if r_positive == '0' and r_negative == '0':\n",
    "            return('0')\n",
    "    if r_negative == '0':\n",
    "        r_negative = '1'\n",
    "    if r_positive == '0':\n",
    "        r_positive = '1'\n",
    "    return(multiply(r_negative, r_positive))"
   ]
  },
  {
   "cell_type": "code",
   "execution_count": 205,
   "metadata": {},
   "outputs": [
    {
     "data": {
      "text/plain": [
       "'0'"
      ]
     },
     "execution_count": 205,
     "metadata": {},
     "output_type": "execute_result"
    }
   ],
   "source": [
    "solution_old([-362])"
   ]
  },
  {
   "cell_type": "code",
   "execution_count": 206,
   "metadata": {},
   "outputs": [
    {
     "data": {
      "text/plain": [
       "0"
      ]
     },
     "execution_count": 206,
     "metadata": {},
     "output_type": "execute_result"
    }
   ],
   "source": [
    "solution_new([-362])"
   ]
  },
  {
   "cell_type": "code",
   "execution_count": 209,
   "metadata": {},
   "outputs": [],
   "source": [
    "for i in range(0,1000):\n",
    "    r = [random.randint(-1000,1000) for _ in range(random.randint(0,50))]\n",
    "    if solution_v2(r) != solution_new(r):\n",
    "        print(r)"
   ]
  },
  {
   "cell_type": "code",
   "execution_count": 210,
   "metadata": {},
   "outputs": [
    {
     "ename": "NameError",
     "evalue": "name 'rand' is not defined",
     "output_type": "error",
     "traceback": [
      "\u001b[1;31m---------------------------------------------------------------------------\u001b[0m",
      "\u001b[1;31mNameError\u001b[0m                                 Traceback (most recent call last)",
      "\u001b[1;32m<ipython-input-210-a6b7a8482853>\u001b[0m in \u001b[0;36m<module>\u001b[1;34m\u001b[0m\n\u001b[0;32m      7\u001b[0m               \u001b[1;33m[\u001b[0m\u001b[1;36m0\u001b[0m\u001b[1;33m,\u001b[0m \u001b[1;36m10\u001b[0m\u001b[1;33m,\u001b[0m \u001b[1;36m2\u001b[0m\u001b[1;33m]\u001b[0m\u001b[1;33m,\u001b[0m\u001b[1;33m\u001b[0m\u001b[1;33m\u001b[0m\u001b[0m\n\u001b[0;32m      8\u001b[0m               \u001b[1;33m[\u001b[0m\u001b[1;33m-\u001b[0m\u001b[1;36m1000\u001b[0m\u001b[1;33m,\u001b[0m \u001b[1;36m1000\u001b[0m\u001b[1;33m]\u001b[0m\u001b[1;33m,\u001b[0m\u001b[1;33m\u001b[0m\u001b[1;33m\u001b[0m\u001b[0m\n\u001b[1;32m----> 9\u001b[1;33m               \u001b[1;33m[\u001b[0m\u001b[0mrandom\u001b[0m\u001b[1;33m.\u001b[0m\u001b[0mrandint\u001b[0m\u001b[1;33m(\u001b[0m\u001b[1;33m-\u001b[0m\u001b[1;36m1000\u001b[0m\u001b[1;33m,\u001b[0m\u001b[1;36m1000\u001b[0m\u001b[1;33m)\u001b[0m \u001b[1;32mfor\u001b[0m \u001b[0m_\u001b[0m \u001b[1;32min\u001b[0m \u001b[0mrange\u001b[0m\u001b[1;33m(\u001b[0m\u001b[0mrand\u001b[0m\u001b[1;33m(\u001b[0m\u001b[1;36m0\u001b[0m\u001b[1;33m,\u001b[0m\u001b[1;36m50\u001b[0m\u001b[1;33m)\u001b[0m\u001b[1;33m)\u001b[0m\u001b[1;33m]\u001b[0m\u001b[1;33m\u001b[0m\u001b[1;33m\u001b[0m\u001b[0m\n\u001b[0m\u001b[0;32m     10\u001b[0m              ]\n\u001b[0;32m     11\u001b[0m \u001b[1;32mfor\u001b[0m \u001b[0mcase\u001b[0m \u001b[1;32min\u001b[0m \u001b[0mtest_cases\u001b[0m\u001b[1;33m:\u001b[0m\u001b[1;33m\u001b[0m\u001b[1;33m\u001b[0m\u001b[0m\n",
      "\u001b[1;31mNameError\u001b[0m: name 'rand' is not defined"
     ]
    }
   ],
   "source": [
    "test_cases = [[2, 0, 2, 2, 0],\n",
    "              [-2, -3, 4, -5],\n",
    "              [2,-3,1,0,-5],\n",
    "              [0, 0, 0, 1],\n",
    "              [-1],\n",
    "              [-1, -1],\n",
    "              [0, 10, 2],\n",
    "              [-1000, 1000],\n",
    "              [random.randint(-1000,1000) for _ in range(rand(0,50))]\n",
    "             ]\n",
    "for case in test_cases:\n",
    "#    print('case:', case)\n",
    "    sol=solution(case)\n",
    "#    print('type:', type(sol))\n",
    "    print('solution:', sol, '\\n')"
   ]
  },
  {
   "cell_type": "code",
   "execution_count": 215,
   "metadata": {},
   "outputs": [],
   "source": [
    "case = [1000 for _ in range(0,50)]"
   ]
  },
  {
   "cell_type": "code",
   "execution_count": 230,
   "metadata": {},
   "outputs": [
    {
     "name": "stdout",
     "output_type": "stream",
     "text": [
      "[-1000, -1000]\n",
      "1000000\n"
     ]
    }
   ],
   "source": [
    "case = [-1000 for _ in range(0,2)]\n",
    "print(case)\n",
    "print(solution(case))"
   ]
  },
  {
   "cell_type": "code",
   "execution_count": 226,
   "metadata": {},
   "outputs": [
    {
     "data": {
      "text/plain": [
       "145"
      ]
     },
     "execution_count": 226,
     "metadata": {},
     "output_type": "execute_result"
    }
   ],
   "source": [
    "len(solution(case))"
   ]
  },
  {
   "cell_type": "code",
   "execution_count": 237,
   "metadata": {},
   "outputs": [],
   "source": []
  },
  {
   "cell_type": "code",
   "execution_count": 249,
   "metadata": {},
   "outputs": [],
   "source": [
    "from decimal import Decimal\n",
    "from itertools import chain\n",
    "def answer(rg):\n",
    "    positives = [ x for x in rg if x > 0 ]\n",
    "    negatives = [ x for x in rg if x < 0 ]\n",
    "    if len(rg) == 1 or not positives and not negatives:\n",
    "        return rg[0]\n",
    "    negatives.sort()\n",
    "    if len(negatives) % 2 == 1:\n",
    "        negatives = negatives[:-1]\n",
    "    product = Decimal(1)\n",
    "    for x in chain(positives, negatives):\n",
    "        product *= Decimal(x)\n",
    "    return product"
   ]
  },
  {
   "cell_type": "code",
   "execution_count": 268,
   "metadata": {},
   "outputs": [],
   "source": [
    "from functools import reduce\n",
    "import operator\n",
    "\n",
    "def get_pair_prod(xs):\n",
    "    if len(xs) < 2:\n",
    "        return 1\n",
    "    xs.sort()\n",
    "    return xs[0] * xs[1]\n",
    "\n",
    "def answer(xs):\n",
    "    if len(xs) == 0:\n",
    "        return \"0\"\n",
    "    positive = [x for x in xs if x > 0]\n",
    "    negative = [x for x in xs if x < 0]  \n",
    "    if len(negative) == 1 and len(positive) == 0:\n",
    "        return str(negative[0])\n",
    "    elif len(negative) == 0 and len(positive) == 0:\n",
    "        return str(\"0\")  \n",
    "    positive.append(get_pair_prod(negative))\n",
    "    return str(reduce(operator.mul, positive, 1))"
   ]
  },
  {
   "cell_type": "code",
   "execution_count": 281,
   "metadata": {},
   "outputs": [
    {
     "name": "stdout",
     "output_type": "stream",
     "text": [
      "type: <class 'str'>\n",
      "solution:  8 \n",
      "\n",
      "type: <class 'str'>\n",
      "solution:  60 \n",
      "\n",
      "type: <class 'str'>\n",
      "solution:  30 \n",
      "\n",
      "type: <class 'str'>\n",
      "solution:  1 \n",
      "\n",
      "type: <class 'str'>\n",
      "solution:  -1 \n",
      "\n",
      "type: <class 'str'>\n",
      "solution:  1 \n",
      "\n",
      "type: <class 'str'>\n",
      "solution:  20 \n",
      "\n",
      "type: <class 'str'>\n",
      "solution:  1000 \n",
      "\n",
      "type: <class 'str'>\n",
      "solution:  150394757270413547515957324560 \n",
      "\n"
     ]
    }
   ],
   "source": [
    "test_cases = [[2, 0, 2, 2, 0],\n",
    "              [-2, -3, 4, -5],\n",
    "              [2,-3,1,0,-5],\n",
    "              [0, 0, 0, 1],\n",
    "              [-1],\n",
    "              [-1, -1],\n",
    "              [0, 10, 2],\n",
    "              [-1000, 1000],\n",
    "              [random.randint(-1000,1000) for _ in range(random.randint(0,50))]\n",
    "             ]\n",
    "for case in test_cases:\n",
    "#    print('case:', case)\n",
    "    sol=answer(case)\n",
    "    print('type:', type(sol))\n",
    "    print('solution: ',str(sol), '\\n')"
   ]
  }
 ],
 "metadata": {
  "kernelspec": {
   "display_name": "Python 3",
   "language": "python",
   "name": "python3"
  }
 },
 "nbformat": 4,
 "nbformat_minor": 4
}
