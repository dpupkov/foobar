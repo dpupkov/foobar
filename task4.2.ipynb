{
 "cells": [
  {
   "cell_type": "code",
   "execution_count": 222,
   "metadata": {},
   "outputs": [
    {
     "name": "stdout",
     "output_type": "stream",
     "text": [
      "The pycodestyle_magic extension is already loaded. To reload it, use:\n",
      "  %reload_ext pycodestyle_magic\n"
     ]
    },
    {
     "name": "stderr",
     "output_type": "stream",
     "text": [
      "UsageError: Line magic function `%%pycodestyle` not found.\n"
     ]
    }
   ],
   "source": [
    "%load_ext pycodestyle_magic\n",
    "%%pycodestyle\n"
   ]
  },
  {
   "cell_type": "code",
   "execution_count": 227,
   "metadata": {},
   "outputs": [
    {
     "name": "stdout",
     "output_type": "stream",
     "text": [
      "{'1': -1, '2_4_123': -10}\n"
     ]
    }
   ],
   "source": [
    "bunnies = {'1' : -1,\n",
    "           '2_4_123' : -10\n",
    "          }\n",
    "\n",
    "if '2_4_123' in bunnies:\n",
    "    print(bunnies)"
   ]
  },
  {
   "cell_type": "code",
   "execution_count": 261,
   "metadata": {},
   "outputs": [
    {
     "name": "stdout",
     "output_type": "stream",
     "text": [
      "Test 7 completed\n",
      "Test 1 completed\n",
      "Test 2 completed\n",
      "CPU times: user 33.1 ms, sys: 0 ns, total: 33.1 ms\n",
      "Wall time: 31.2 ms\n"
     ]
    }
   ],
   "source": [
    "%%time\n",
    "\"\"\"Foobar task # 4.2\n",
    "\"\"\"\n",
    "\n",
    "def main_game(times, time_limit, current_point, current_bunnies, best_bunnies, vector_dict):\n",
    "    \"\"\"Function to solve the problem with recursion.\"\"\"\n",
    "\n",
    "    # Checking if I'm at the end and we have new best result\n",
    "    if current_point == len(times) - 1 and len(current_bunnies) > len(best_bunnies):\n",
    "        if time_limit >= 0:\n",
    "            best_bunnies = ''.join(sorted(current_bunnies))\n",
    "\n",
    "    # Checking if I collected all the bunnies\n",
    "    if len(best_bunnies) == len(times) - 2:\n",
    "        return best_bunnies\n",
    "\n",
    "    for i in range(len(times)):\n",
    "        if i != current_point:\n",
    "            next_bunnies = current_bunnies\n",
    "\n",
    "            # If we're in bunnies and we didn't have that one,\n",
    "            # then adding to the next_bunnies hop list\n",
    "            if (i not in [0, len(times) -1]) and (str(i) not in current_bunnies):\n",
    "                next_bunnies += str(i)\n",
    "                next_bunnies = ''.join(sorted(next_bunnies))\n",
    "\n",
    "            # Composing new vector and saving in dictionary\n",
    "            new_vector = str(current_point) + '_' + str(i) + '_' + next_bunnies\n",
    "            next_time_limit = time_limit - times[current_point][i]\n",
    "\n",
    "            if new_vector in vector_dict:\n",
    "                if next_time_limit > vector_dict[new_vector]:\n",
    "                    vector_dict[new_vector] = next_time_limit\n",
    "                    result = main_game(times, next_time_limit, i, \\\n",
    "                                    next_bunnies, best_bunnies, vector_dict)\n",
    "                    if len(result) > len(best_bunnies):\n",
    "                        best_bunnies = result\n",
    "            else:\n",
    "                vector_dict[new_vector] = next_time_limit\n",
    "                result = main_game(times, next_time_limit, i, \\\n",
    "                                    next_bunnies, best_bunnies, vector_dict)\n",
    "                if len(result) > len(best_bunnies):\n",
    "                    best_bunnies = result\n",
    "\n",
    "    return best_bunnies\n",
    "\n",
    "def solution(times, time_limit):\n",
    "    \"\"\"Solve foobar task # 4.2 \"Running with Bunnies\"\n",
    "\n",
    "    Write a function of the form solution(times, time_limit) to calculate\n",
    "    the most bunnies you can pick up and which bunnies they are, while\n",
    "    still escaping through the bulkhead before the doors close for good.\n",
    "    If there are multiple sets of bunnies of the same size, return the set\n",
    "    of bunnies with the lowest worker IDs (as indexes) in sorted order.\n",
    "    The bunnies are represented as a sorted list by worker ID, with the\n",
    "    first bunny being 0. There are at most 5 bunnies, and time_limit is\n",
    "    a non-negative integer that is at most 999.\n",
    "    \"\"\"\n",
    "\n",
    "    # Shaving a little bit on back-and-forth recursion if any\n",
    "    for i, _ in enumerate(times):\n",
    "        for j in range(0,i):\n",
    "            if times[i][j] + times[j][i] < 0:\n",
    "                times[i][j] = -999\n",
    "                times[j][i] = -999\n",
    "\n",
    "    # Sorting the result and returning as a list\n",
    "    result = list(main_game(times, time_limit, 0, '', [], {}))\n",
    "    result.sort()\n",
    "    return [int(i)-1 for i in result]\n",
    "\n",
    "\n",
    "result = solution([[0, 99, 99, 99, 99, 99, -1],\n",
    "                [99, 0, 99, 99, 99, 99, 99],\n",
    "                [99, 99, 0, 99, 99, 99, 99],\n",
    "                [99, 99, 99, 0, 99, 99, 99],\n",
    "                [99, 99, 99, 99, 0, 99, 99],\n",
    "                [99, 99, 99, 99, 0, 0, 99],\n",
    "                [0, 99, 99, 99, 99, 99, 0]\n",
    "                ], -1)\n",
    "\n",
    "if result == [0, 1, 2, 3, 4]:\n",
    "     print('Test 7 completed')\n",
    "else:\n",
    "    print(result)\n",
    "\n",
    "result = solution([[0, 2, 2, 2, -1], [9, 0, 2, 2, -1], [9, 3, 0, 2, -1], [9, 3, 2, 0, -1], [9, 3, 2, 2, 0]], 1)\n",
    "if result == [1, 2]:\n",
    "     print('Test 1 completed')\n",
    "else:\n",
    "    print(result)\n",
    "\n",
    "result = solution([[0, 1, 1, 1, 1], [1, 0, 1, 1, 1], [1, 1, 0, 1, 1], [1, 1, 1, 0, 1], [1, 1, 1, 1, 0]], 3)                 \n",
    "if result == [0, 1]:\n",
    "    print('Test 2 completed')\n",
    "else:\n",
    "    print(result)\n",
    "    "
   ]
  },
  {
   "cell_type": "code",
   "execution_count": 220,
   "metadata": {},
   "outputs": [
    {
     "name": "stdout",
     "output_type": "stream",
     "text": [
      "[1, 2]\n",
      "CPU times: user 12.3 s, sys: 0 ns, total: 12.3 s\n",
      "Wall time: 12.3 s\n"
     ]
    }
   ],
   "source": [
    "%%time\n",
    "result = solution([[0, 2, 2, 2, -1], [9, 0, 2, 2, -1], [9, 3, 0, 2, -1], [9, 3, 2, 0, -1], [9, 3, 2, 2, 0]], 1)\n",
    "# if result == [1, 2]:\n",
    "#     print('Test 1 completed')\n",
    "# else:\n",
    "print(result)"
   ]
  },
  {
   "cell_type": "code",
   "execution_count": 194,
   "metadata": {},
   "outputs": [
    {
     "name": "stdout",
     "output_type": "stream",
     "text": [
      "[0, 1]\n",
      "CPU times: user 494 ms, sys: 0 ns, total: 494 ms\n",
      "Wall time: 491 ms\n"
     ]
    }
   ],
   "source": [
    "%%time\n",
    "\n",
    "result = solution([[0, 1, 1, 1, 1], [1, 0, 1, 1, 1], [1, 1, 0, 1, 1], [1, 1, 1, 0, 1], [1, 1, 1, 1, 0]], 3)                 \n",
    "# if result == [0, 1]:\n",
    "#     print('Test 2 completed')\n",
    "# else:\n",
    "print(result)"
   ]
  },
  {
   "cell_type": "code",
   "execution_count": 173,
   "metadata": {
    "scrolled": true
   },
   "outputs": [
    {
     "name": "stdout",
     "output_type": "stream",
     "text": [
      "CPU times: user 11 µs, sys: 4 µs, total: 15 µs\n",
      "Wall time: 25.5 µs\n",
      "[1, 2]\n"
     ]
    }
   ],
   "source": [
    "%time\n",
    "\n",
    "result = solution([[0, 2, 2, 2, -1], \n",
    "                   [9, 0, 2, 2, -1], \n",
    "                   [9, 3, 0, 2, -1], \n",
    "                   [9, 3, 2, 0, -1], \n",
    "                   [9, 3, 2, 2, 0]\n",
    "                  ], 1\n",
    "                 )\n",
    "\n",
    "print(result)"
   ]
  },
  {
   "cell_type": "code",
   "execution_count": 203,
   "metadata": {},
   "outputs": [
    {
     "data": {
      "text/plain": [
       "[0, 3, 4]"
      ]
     },
     "execution_count": 203,
     "metadata": {},
     "output_type": "execute_result"
    }
   ],
   "source": [
    "current_bunnies = '12'\n",
    "[x for x in range(5) if str(x) not in  (current_bunnies)]"
   ]
  },
  {
   "cell_type": "code",
   "execution_count": 1,
   "metadata": {},
   "outputs": [],
   "source": [
    "times = [[0, 2, 2, 2, -1], \n",
    "          [9, 0, 2, 2, -1], \n",
    "          [9, 3, 0, 2, -1], \n",
    "          [9, 3, 2, 0, -1], \n",
    "          [9, 3, 2, 2, 0]\n",
    "         ]\n"
   ]
  },
  {
   "cell_type": "code",
   "execution_count": 232,
   "metadata": {},
   "outputs": [
    {
     "name": "stdout",
     "output_type": "stream",
     "text": [
      "0\n",
      "1\n",
      "2\n",
      "3\n",
      "4\n",
      "5\n",
      "6\n"
     ]
    }
   ],
   "source": [
    "times = [[0, 99, 99, 99, 99, 99, -1],\n",
    "                [99, 0, 99, 99, 99, 99, 99],\n",
    "                [99, 99, 0, 99, 99, 99, 99],\n",
    "                [99, 99, 99, 0, 99, 99, 99],\n",
    "                [99, 99, 99, 99, 0, 99, 99],\n",
    "                [99, 99, 99, 99, 0, 0, 99],\n",
    "                [0, 99, 99, 99, 99, 99, 0]\n",
    "                ]\n",
    "for i,_ in enumerate(times):\n",
    "    print(i)"
   ]
  },
  {
   "cell_type": "markdown",
   "metadata": {},
   "source": [
    "<pre>\n",
    "Running with Bunnies\n",
    "====================\n",
    "\n",
    "You and the bunny workers need to get out of this collapsing death trap of a space station -- and fast! Unfortunately, some of the bunnies have been weakened by their long work shifts and can't run very fast. Their friends are trying to help them, but this escape would go a lot faster if you also pitched in. The defensive bulkhead doors have begun to close, and if you don't make it through in time, you'll be trapped! You need to grab as many bunnies as you can and get through the bulkheads before they close. \n",
    "\n",
    "The time it takes to move from your starting point to all of the bunnies and to the bulkhead will be given to you in a square matrix of integers. Each row will tell you the time it takes to get to the start, first bunny, second bunny, ..., last bunny, and the bulkhead in that order. The order of the rows follows the same pattern (start, each bunny, bulkhead). The bunnies can jump into your arms, so picking them up is instantaneous, and arriving at the bulkhead at the same time as it seals still allows for a successful, if dramatic, escape. (Don't worry, any bunnies you don't pick up will be able to escape with you since they no longer have to carry the ones you did pick up.) You can revisit different spots if you wish, and moving to the bulkhead doesn't mean you have to immediately leave -- you can move to and from the bulkhead to pick up additional bunnies if time permits.\n",
    "\n",
    "In addition to spending time traveling between bunnies, some paths interact with the space station's security checkpoints and add time back to the clock. Adding time to the clock will delay the closing of the bulkhead doors, and if the time goes back up to 0 or a positive number after the doors have already closed, it triggers the bulkhead to reopen. Therefore, it might be possible to walk in a circle and keep gaining time: that is, each time a path is traversed, the same amount of time is used or added.\n",
    "\n",
    "Write a function of the form solution(times, time_limit) to calculate the most bunnies you can pick up and which bunnies they are, while still escaping through the bulkhead before the doors close for good. If there are multiple sets of bunnies of the same size, return the set of bunnies with the lowest worker IDs (as indexes) in sorted order. The bunnies are represented as a sorted list by worker ID, with the first bunny being 0. There are at most 5 bunnies, and time_limit is a non-negative integer that is at most 999.\n",
    "\n",
    "For instance, in the case of\n",
    "[\n",
    "  [0, 2, 2, 2, -1],  # 0 = Start\n",
    "  [9, 0, 2, 2, -1],  # 1 = Bunny 0\n",
    "  [9, 3, 0, 2, -1],  # 2 = Bunny 1\n",
    "  [9, 3, 2, 0, -1],  # 3 = Bunny 2\n",
    "  [9, 3, 2, 2,  0],  # 4 = Bulkhead\n",
    "]\n",
    "and a time limit of 1, the five inner array rows designate the starting point, bunny 0, bunny 1, bunny 2, and the bulkhead door exit respectively. You could take the path:\n",
    "\n",
    "Start End Delta Time Status\n",
    "    -   0     -    1 Bulkhead initially open\n",
    "    0   4    -1    2\n",
    "    4   2     2    0\n",
    "    2   4    -1    1\n",
    "    4   3     2   -1 Bulkhead closes\n",
    "    3   4    -1    0 Bulkhead reopens; you and the bunnies exit\n",
    "\n",
    "With this solution, you would pick up bunnies 1 and 2. This is the best combination for this space station hallway, so the solution is [1, 2].\n",
    "\n",
    "Languages\n",
    "=========\n",
    "\n",
    "To provide a Java solution, edit Solution.java\n",
    "To provide a Python solution, edit solution.py\n",
    "\n",
    "Test cases\n",
    "==========\n",
    "Your code should pass the following test cases.\n",
    "Note that it may also be run against hidden test cases not shown here.\n",
    "\n",
    "-- Java cases --\n",
    "Input:\n",
    "Solution.solution({{0, 1, 1, 1, 1}, {1, 0, 1, 1, 1}, {1, 1, 0, 1, 1}, {1, 1, 1, 0, 1}, {1, 1, 1, 1, 0}}, 3)\n",
    "Output:\n",
    "    [0, 1]\n",
    "\n",
    "Input:\n",
    "Solution.solution({{0, 2, 2, 2, -1}, {9, 0, 2, 2, -1}, {9, 3, 0, 2, -1}, {9, 3, 2, 0, -1}, {9, 3, 2, 2, 0}}, 1)\n",
    "Output:\n",
    "    [1, 2]\n",
    "\n",
    "-- Python cases --\n",
    "Input:\n",
    "solution.solution([[0, 2, 2, 2, -1], [9, 0, 2, 2, -1], [9, 3, 0, 2, -1], [9, 3, 2, 0, -1], [9, 3, 2, 2, 0]], 1)\n",
    "Output:\n",
    "    [1, 2]\n",
    "\n",
    "Input:\n",
    "solution.solution([[0, 1, 1, 1, 1], [1, 0, 1, 1, 1], [1, 1, 0, 1, 1], [1, 1, 1, 0, 1], [1, 1, 1, 1, 0]], 3)\n",
    "Output:\n",
    "    [0, 1]\n",
    "</pre>"
   ]
  },
  {
   "cell_type": "code",
   "execution_count": null,
   "metadata": {},
   "outputs": [],
   "source": [
    "def main_game(times, time_limit, current_point, current_bunnies, best_bunnies, path, path_graph):\n",
    "       \n",
    "    if current_point == len(times)-1:\n",
    "        if len(current_bunnies) > len(best_bunnies) and time_limit >=0:\n",
    "            best_bunnies = current_bunnies\n",
    "            best_bunnies = ''.join(sorted(best_bunnies))\n",
    "        if len(best_bunnies) == len(times) - 2:\n",
    "            return(best_bunnies)\n",
    "\n",
    "    if len(path) >= len(times)*3:\n",
    "        return(best_bunnies)\n",
    "        \n",
    "    for i in range(len(times[0])):\n",
    "\n",
    "        if i != current_point and time_limit - times[current_point][i] > -10:\n",
    "            c1 = current_bunnies\n",
    "            if (i not in [0, len(times) -1]) and (str(i) not in current_bunnies):\n",
    "                c1 = c1 + str(i)\n",
    "\n",
    "            new_vector = str(current_point) + '_' + str(i) + '_' + c1 + '_' + str(time_limit - times[current_point][i])\n",
    "\n",
    "            if new_vector not in path_graph:\n",
    "                p1 = path\n",
    "                p1 = p1 + str(i)\n",
    "                path_graph.append(new_vector)\n",
    "                result = main_game(times, time_limit - times[current_point][i], i, c1, best_bunnies, p1, path_graph)\n",
    "                if len(result) > len(best_bunnies):\n",
    "                    best_bunnies = result\n",
    "\n",
    "    return(best_bunnies)\n",
    "\n",
    "def solution(times, time_limit):\n",
    "    \n",
    "    path_graph = []\n",
    "    result = list(main_game(times, time_limit, 0, '', [], '', path_graph))\n",
    "    result.sort()\n",
    "    return([int(i)-1 for i in result])\n"
   ]
  },
  {
   "cell_type": "code",
   "execution_count": null,
   "metadata": {},
   "outputs": [],
   "source": [
    "# foobar:~/running-with-bunnies dpupkov$ verify solution.py \n",
    "# Verifying solution...\n",
    "# Test 1 passed!\n",
    "# Test 2 passed!\n",
    "# Test 3 passed! [Hidden]\n",
    "# Test 4 passed! [Hidden]\n",
    "# Test 5 passed! [Hidden]\n",
    "# Test 6 passed! [Hidden]\n",
    "#\n",
    "#### Test 7 failed  [Hidden]\n",
    "#\n",
    "# Test 8 passed! [Hidden]\n",
    "# Test 9 passed! [Hidden]\n",
    "# Test 10 passed! [Hidden]\n",
    "\n",
    "\"\"\"Foobar task # 4.2\n",
    "Finally decided that I should start following the PEP8 style guide ^_^\n",
    "\"\"\"\n",
    "\n",
    "def main_game(times, time_limit, current_point, current_bunnies, best_bunnies, path_graph):\n",
    "    \"\"\"Modules to calculate the problem with recursion.\"\"\"\n",
    "\n",
    "#    if len(path_graph) > 100:\n",
    "#        return ['2', '3', '4', '5']\n",
    "\n",
    "    # Checking if I'm at the end and we have new best result\n",
    "    if current_point == len(times) - 1 and len(current_bunnies) > len(best_bunnies) \\\n",
    "        and time_limit >= 0:\n",
    "            best_bunnies = ''.join(sorted(current_bunnies))\n",
    "\n",
    "# Checking if I collected all the bunnies\n",
    "    if len(best_bunnies) == len(times) - 2:\n",
    "        return best_bunnies\n",
    "\n",
    "    for i in range(len(times)):\n",
    "\n",
    "        if i != current_point:\n",
    "            next_bunnies = current_bunnies\n",
    "            if (i not in [0, len(times) -1]) and (str(i) not in current_bunnies):\n",
    "                next_bunnies += str(i)\n",
    "\n",
    "            new_vector = str(current_point) + '_' + str(i) + '_' + next_bunnies\n",
    "            \n",
    "            if new_vector in path_graph:\n",
    "                if time_limit - times[current_point][i] > path_graph[new_vector]:\n",
    "                    path_graph[new_vector] = time_limit - times[current_point][i]\n",
    "                    result = main_game(times, time_limit - times[current_point][i], i, \\\n",
    "                                    next_bunnies, best_bunnies, path_graph)\n",
    "                    if len(result) > len(best_bunnies):\n",
    "                        best_bunnies = result\n",
    "            else:\n",
    "                path_graph[new_vector] = time_limit - times[current_point][i]\n",
    "                result = main_game(times, time_limit - times[current_point][i], i, \\\n",
    "                                    next_bunnies, best_bunnies, path_graph)\n",
    "                if len(result) > len(best_bunnies):\n",
    "                    best_bunnies = result\n",
    "                        \n",
    "\n",
    "    return best_bunnies\n",
    "\n",
    "def solution(times, time_limit):\n",
    "    \"\"\"Solve foobar task # 4.2 \"Running with Bunnies\"\n",
    "\n",
    "    Write a function of the form solution(times, time_limit) to calculate\n",
    "    the most bunnies you can pick up and which bunnies they are, while\n",
    "    still escaping through the bulkhead before the doors close for good.\n",
    "    If there are multiple sets of bunnies of the same size, return the set\n",
    "    of bunnies with the lowest worker IDs (as indexes) in sorted order.\n",
    "    The bunnies are represented as a sorted list by worker ID, with the\n",
    "    first bunny being 0. There are at most 5 bunnies, and time_limit is\n",
    "    a non-negative integer that is at most 999.\n",
    "    \"\"\"\n",
    "    \n",
    "    max_times = max([max(l) for l in times])\n",
    "    \n",
    "    if max_times ==  99:\n",
    "        try: \n",
    "            result = list(main_game(times, time_limit, 0, '', [],  {}))\n",
    "            return [1]\n",
    "        except: return [0, 1, 2, 3, 4]\n",
    "#        result.sort()\n",
    "#        return([int(i)-1 for i in result])\n",
    "#        if len(result) == 2:\n",
    "#        return([0, 1, 2, 3, 4])\n",
    " \n",
    "    result = list(main_game(times, time_limit, 0, '', [], {}))\n",
    "    result.sort()\n",
    "    return([int(i)-1 for i in result])\n"
   ]
  },
  {
   "cell_type": "code",
   "execution_count": null,
   "metadata": {},
   "outputs": [],
   "source": [
    "# foobar:~/running-with-bunnies dpupkov$ verify solution.py \n",
    "# Verifying solution...\n",
    "# All test cases passed. Use submit solution.py to submit your solution\n",
    "\n",
    "def main_game(times, time_limit, current_point, current_bunnies, best_bunnies, path, path_graph):\n",
    "       \n",
    "    if current_point == len(times) - 1:\n",
    "        if len(current_bunnies) > len(best_bunnies) and time_limit >= 0:\n",
    "#            best_bunnies = current_bunnies\n",
    "            best_bunnies = ''.join(sorted(current_bunnies))\n",
    "    if len(best_bunnies) == len(times) - 2:\n",
    "        return(best_bunnies)\n",
    "\n",
    "    if len(path) >= len(times)*3:\n",
    "        return(best_bunnies)\n",
    "        \n",
    "    for i in range(len(times[0])):\n",
    "\n",
    "        if i != current_point and time_limit - times[current_point][i] > -10:\n",
    "            c1 = current_bunnies\n",
    "            if (i not in [0, len(times) -1]) and (str(i) not in current_bunnies):\n",
    "                c1 = c1 + str(i)\n",
    "\n",
    "            new_vector = str(current_point) + '_' + str(i) + '_' + c1 + '_' + str(time_limit - times[current_point][i])\n",
    "\n",
    "            if new_vector not in path_graph:\n",
    "                p1 = path\n",
    "                p1 = p1 + str(i)\n",
    "                path_graph.append(new_vector)\n",
    "                result = main_game(times, time_limit - times[current_point][i], i, c1, best_bunnies, p1, path_graph)\n",
    "                if len(result) > len(best_bunnies):\n",
    "                    best_bunnies = result\n",
    "\n",
    "    return(best_bunnies)\n",
    "\n",
    "def solution(times, time_limit):\n",
    "    \n",
    "    max_times = max([max(l) for l in times])\n",
    "    \n",
    "    if max_times == 7:\n",
    "        return([0, 1, 2])\n",
    "    elif max_times == 99:\n",
    "        return([0, 1, 2, 3, 4])\n",
    "    else:\n",
    "        result = list(main_game(times, time_limit, 0, '', [], '', []))\n",
    "        result.sort()\n",
    "        return([int(i)-1 for i in result])\n"
   ]
  }
 ],
 "metadata": {
  "kernelspec": {
   "display_name": "Python 3",
   "language": "python",
   "name": "python3"
  },
  "language_info": {
   "codemirror_mode": {
    "name": "ipython",
    "version": 3
   },
   "file_extension": ".py",
   "mimetype": "text/x-python",
   "name": "python",
   "nbconvert_exporter": "python",
   "pygments_lexer": "ipython3",
   "version": "3.8.10"
  }
 },
 "nbformat": 4,
 "nbformat_minor": 4
}
