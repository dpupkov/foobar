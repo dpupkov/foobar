{
 "cells": [
  {
   "cell_type": "code",
   "execution_count": 90,
   "metadata": {},
   "outputs": [],
   "source": [
    "import copy\n",
    "def solve(map_new, row, column, path, best_result):\n",
    "#    path =  [([0] * len(c1[0])) for _ in range(len(c1))] \n",
    "#    location = (0, 0)\n",
    "\n",
    "#    print('row: ',row,'column:', column,'path: ', path,'PB: ', best_result)\n",
    "    map_new[row][column] = path\n",
    "\n",
    "#    for r in map_new:\n",
    "#        print(r)\n",
    "\n",
    "    if (row == len(map_new)-2) and (column == len(map_new[0])-2):\n",
    "#        print('Hooooray, exit!!!')\n",
    "        if path < best_result:\n",
    "            return(path)\n",
    "        else:\n",
    "            return(best_result)\n",
    "    \n",
    "    \n",
    "    if map_new[row+1][column] == 0:\n",
    "#        print('going down')\n",
    "        r1 = solve(map_new, row +1, column, path +1, best_result)\n",
    "        if r1 < best_result:\n",
    "            best_result = r1\n",
    "\n",
    "    if map_new[row][column+1] == 0:\n",
    "#        print('going right')\n",
    "        r1 = solve(map_new, row, column + 1, path +1, best_result)\n",
    "        if r1 < best_result:\n",
    "            best_result = r1\n",
    "\n",
    "    if map_new[row-1][column] == 0:\n",
    "#        print('going up')\n",
    "        r1 = solve(map_new, row -1, column, path +1, best_result)\n",
    "        if r1 < best_result:\n",
    "            best_result = r1\n",
    "\n",
    "    if map_new[row][column-1] == 0:\n",
    "#        print('going left')\n",
    "        r1 = solve(map_new, row, column-1, path +1, best_result)\n",
    "        if r1 < best_result:\n",
    "            best_result = r1\n",
    "\n",
    "    return best_result\n",
    "\n",
    "def solution(map_global):\n",
    "    map_global.insert(0, [1 for _ in range(len(map_global[0]))])\n",
    "    map_global.append([1 for _ in range(len(map_global[0]))])\n",
    "    for row in range(0, len(map_global)):\n",
    "        map_global[row].insert(0,1)\n",
    "        map_global[row].append(1)\n",
    "        \n",
    "    result = 500\n",
    "    \n",
    "    map_temp = copy.deepcopy(map_global)\n",
    "    r1 = solve(map_temp, 1, 1, 1, 500)\n",
    "#    print('r1',r1)\n",
    "    if r1 < 500:\n",
    "        result = r1\n",
    "        \n",
    "#    print('Let`s start changing world: ')\n",
    "    \n",
    "#    for r in map_global:\n",
    "#        print(r)\n",
    "    \n",
    "    for row in range(1, len(map_global)-1):\n",
    "        for column in range(1, len(map_global[row])-1):\n",
    "            if map_global[row][column] == 1:\n",
    "                map_temp = copy.deepcopy(map_global)\n",
    "                map_temp[row][column] = 0\n",
    "                r1 = solve(map_temp, 1, 1, 1, result)\n",
    "                if r1 < result:\n",
    "                    result = r1\n",
    "#                map_global[row][column] = 1\n",
    "                \n",
    "    return(result)\n",
    "    # Your code here"
   ]
  },
  {
   "cell_type": "code",
   "execution_count": 91,
   "metadata": {
    "scrolled": false
   },
   "outputs": [
    {
     "data": {
      "text/plain": [
       "11"
      ]
     },
     "execution_count": 91,
     "metadata": {},
     "output_type": "execute_result"
    }
   ],
   "source": [
    "cases = [\n",
    "    [[0]\n",
    "    ],\n",
    "    [[0, 1, 1, 0], \n",
    "     [0, 0, 0, 1], \n",
    "     [1, 1, 0, 0], \n",
    "     [1, 1, 1, 0]\n",
    "    ],\n",
    "    [[0, 0, 0, 0, 0, 0], \n",
    "     [1, 1, 1, 1, 1, 0], \n",
    "     [0, 0, 0, 0, 0, 0], \n",
    "     [0, 1, 1, 1, 1, 1], \n",
    "     [0, 1, 1, 1, 1, 1], \n",
    "     [0, 0, 0, 0, 0, 0]\n",
    "    ]\n",
    "]\n",
    "\n",
    "solution(cases[2])"
   ]
  },
  {
   "cell_type": "code",
   "execution_count": 15,
   "metadata": {},
   "outputs": [
    {
     "data": {
      "text/plain": [
       "[[0, 0, 0, 0], [0, 0, 0, 0], [0, 0, 0, 0], [0, 0, 0, 0]]"
      ]
     },
     "execution_count": 15,
     "metadata": {},
     "output_type": "execute_result"
    }
   ],
   "source": [
    "path =  [([0] * len(c1[0])) for _ in range(len(c1))] \n",
    "path"
   ]
  },
  {
   "cell_type": "code",
   "execution_count": 16,
   "metadata": {},
   "outputs": [
    {
     "data": {
      "text/plain": [
       "[[0, 1, 1, 0], [0, 0, 0, 1], [1, 1, 0, 0], [1, 1, 1, 0]]"
      ]
     },
     "execution_count": 16,
     "metadata": {},
     "output_type": "execute_result"
    }
   ],
   "source": [
    "c1"
   ]
  },
  {
   "cell_type": "code",
   "execution_count": 20,
   "metadata": {},
   "outputs": [
    {
     "data": {
      "text/plain": [
       "[[1, 1, 1, 1, 1, 1],\n",
       " [1, 0, 1, 1, 0, 1],\n",
       " [1, 0, 0, 0, 1, 1],\n",
       " [1, 1, 1, 0, 0, 1],\n",
       " [1, 1, 1, 1, 0, 1],\n",
       " [1, 1, 1, 1, 1, 1]]"
      ]
     },
     "execution_count": 20,
     "metadata": {},
     "output_type": "execute_result"
    }
   ],
   "source": [
    "c1.insert(0, [1 for _ in range(len(c1[0]))])\n",
    "c1.append([1 for _ in range(len(c1[0]))])\n",
    "for row in range(0, len(c1)):\n",
    "    c1[row].insert(0,1)\n",
    "    c1[row].append(1)\n",
    "c1"
   ]
  },
  {
   "cell_type": "code",
   "execution_count": 19,
   "metadata": {},
   "outputs": [],
   "source": [
    "c1 = cases [0]"
   ]
  },
  {
   "cell_type": "code",
   "execution_count": null,
   "metadata": {},
   "outputs": [],
   "source": [
    "c1[0][3] = 1\n",
    "c1"
   ]
  },
  {
   "cell_type": "markdown",
   "metadata": {},
   "source": [
    "<pre>\n",
    "Prepare the Bunnies' Escape\n",
    "===========================\n",
    "\n",
    "You're awfully close to destroying the LAMBCHOP doomsday device and freeing Commander Lambda's bunny workers, but once they're free of the work duties the bunnies are going to need to escape Lambda's space station via the escape pods as quickly as possible. Unfortunately, the halls of the space station are a maze of corridors and dead ends that will be a deathtrap for the escaping bunnies. Fortunately, Commander Lambda has put you in charge of a remodeling project that will give you the opportunity to make things a little easier for the bunnies. Unfortunately (again), you can't just remove all obstacles between the bunnies and the escape pods - at most you can remove one wall per escape pod path, both to maintain structural integrity of the station and to avoid arousing Commander Lambda's suspicions. \n",
    "\n",
    "You have maps of parts of the space station, each starting at a work area exit and ending at the door to an escape pod. The map is represented as a matrix of 0s and 1s, where 0s are passable space and 1s are impassable walls. The door out of the station is at the top left (0,0) and the door into an escape pod is at the bottom right (w-1,h-1). \n",
    "\n",
    "Write a function solution(map) that generates the length of the shortest path from the station door to the escape pod, where you are allowed to remove one wall as part of your remodeling plans. The path length is the total number of nodes you pass through, counting both the entrance and exit nodes. The starting and ending positions are always passable (0). The map will always be solvable, though you may or may not need to remove a wall. The height and width of the map can be from 2 to 20. Moves can only be made in cardinal directions; no diagonal moves are allowed.\n",
    "\n",
    "Languages\n",
    "=========\n",
    "\n",
    "To provide a Python solution, edit solution.py\n",
    "To provide a Java solution, edit Solution.java\n",
    "\n",
    "Test cases\n",
    "==========\n",
    "Your code should pass the following test cases.\n",
    "Note that it may also be run against hidden test cases not shown here.\n",
    "\n",
    "-- Python cases --\n",
    "Input:\n",
    "solution.solution([[0, 1, 1, 0], [0, 0, 0, 1], [1, 1, 0, 0], [1, 1, 1, 0]])\n",
    "Output:\n",
    "    7\n",
    "\n",
    "Input:\n",
    "solution.solution([[0, 0, 0, 0, 0, 0], [1, 1, 1, 1, 1, 0], [0, 0, 0, 0, 0, 0], [0, 1, 1, 1, 1, 1], [0, 1, 1, 1, 1, 1], [0, 0, 0, 0, 0, 0]])\n",
    "Output:\n",
    "    11\n",
    "\n",
    "-- Java cases --\n",
    "Input:\n",
    "Solution.solution({{0, 1, 1, 0}, {0, 0, 0, 1}, {1, 1, 0, 0}, {1, 1, 1, 0}})\n",
    "Output:\n",
    "    7\n",
    "\n",
    "Input:\n",
    "Solution.solution({{0, 0, 0, 0, 0, 0}, {1, 1, 1, 1, 1, 0}, {0, 0, 0, 0, 0, 0}, {0, 1, 1, 1, 1, 1}, {0, 1, 1, 1, 1, 1}, {0, 0, 0, 0, 0, 0}})\n",
    "Output:\n",
    "    11\n",
    "</pre>"
   ]
  }
 ],
 "metadata": {
  "kernelspec": {
   "display_name": "Python 3",
   "language": "python",
   "name": "python3"
  },
  "language_info": {
   "codemirror_mode": {
    "name": "ipython",
    "version": 3
   },
   "file_extension": ".py",
   "mimetype": "text/x-python",
   "name": "python",
   "nbconvert_exporter": "python",
   "pygments_lexer": "ipython3",
   "version": "3.8.10"
  }
 },
 "nbformat": 4,
 "nbformat_minor": 4
}
