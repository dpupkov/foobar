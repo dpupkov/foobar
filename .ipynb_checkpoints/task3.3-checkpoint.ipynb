{
 "cells": [
  {
   "cell_type": "code",
   "execution_count": 89,
   "metadata": {},
   "outputs": [],
   "source": [
    "def oddsToOne(s):\n",
    "    return (1 if s[-1:] in ['1', '3', '5', '7', '9'] else 0)"
   ]
  },
  {
   "cell_type": "code",
   "execution_count": 131,
   "metadata": {},
   "outputs": [],
   "source": [
    "def divByTwo(s):\n",
    "    new_s = ''\n",
    "    add = 0\n",
    "\n",
    "    for ch in s:\n",
    "        new_dgt = (ord(ch) - ord('0')) // 2 + add\n",
    "        new_s = '%s%d' % (new_s, new_dgt)\n",
    "        add = oddsToOne(ch) * 5\n",
    "\n",
    "    if new_s != '0' and new_s.startswith('0'):\n",
    "        new_s = new_s[1:]\n",
    "\n",
    "    return new_s"
   ]
  },
  {
   "cell_type": "code",
   "execution_count": 69,
   "metadata": {},
   "outputs": [],
   "source": [
    "def convert_str(num):\n",
    "    new_s = ''\n",
    "    if num == '0':\n",
    "        stack = '0'\n",
    "    else:\n",
    "        stack = ''\n",
    "        while num != '0':\n",
    "            stack = '%d%s'%(oddsToOne(num), stack)\n",
    "            num = divByTwo (num)\n",
    "    return(stack)"
   ]
  },
  {
   "cell_type": "code",
   "execution_count": 91,
   "metadata": {},
   "outputs": [],
   "source": [
    "def add_bit(binary):\n",
    "    carry = '1'\n",
    "    binary=list(binary)\n",
    "    answer = ''\n",
    "    \n",
    "    for i in range(len(binary)-1, -1, -1):\n",
    "        if binary[i] == '0':\n",
    "            binary[i] = '1'\n",
    "            return(\"\".join(binary))\n",
    "        else:\n",
    "            binary[i] = '0'\n",
    "    return('1'+''.join(binary))"
   ]
  },
  {
   "cell_type": "code",
   "execution_count": 95,
   "metadata": {},
   "outputs": [
    {
     "name": "stdout",
     "output_type": "stream",
     "text": [
      "i =  100000\n",
      "11000011010100000\n",
      "11000011010100001\n",
      "i =  100001\n",
      "11000011010100001\n",
      "11000011010100010\n"
     ]
    }
   ],
   "source": [
    "for i in range(100000,100002):\n",
    "    print('i = ', i)\n",
    "    print(convert_str(str(i)))\n",
    "    print(add_bit(convert_str(str(i))))"
   ]
  },
  {
   "cell_type": "code",
   "execution_count": null,
   "metadata": {},
   "outputs": [],
   "source": [
    "# test 8 is 235"
   ]
  },
  {
   "cell_type": "code",
   "execution_count": 122,
   "metadata": {},
   "outputs": [],
   "source": [
    "def solution(n):\n",
    "    \n",
    "    binary = convert_str(n)\n",
    "    operations = 0\n",
    "    \n",
    "    while len(binary) != 1:\n",
    "        if binary[-3:] == '111':\n",
    "            binary = add_bit(binary)\n",
    "            operations += 1\n",
    "        elif binary[-4:] == '1011':\n",
    "            binary = add_bit(binary)\n",
    "            operations += 1\n",
    "        elif binary[-1:] == '1':\n",
    "            binary = binary[:-1]+'0'\n",
    "            operations += 1\n",
    "        else:\n",
    "            binary = binary[:-1]\n",
    "            operations += 1\n",
    "    \n",
    "    return(operations)"
   ]
  },
  {
   "cell_type": "code",
   "execution_count": 130,
   "metadata": {
    "scrolled": false
   },
   "outputs": [
    {
     "name": "stdout",
     "output_type": "stream",
     "text": [
      "String:  11101011 operations:  0\n",
      "String:  11101010 operations:  1\n",
      "String:  1110101 operations:  2\n",
      "String:  1110100 operations:  3\n",
      "String:  111010 operations:  4\n",
      "String:  11101 operations:  5\n",
      "String:  11100 operations:  6\n",
      "String:  1110 operations:  7\n",
      "String:  111 operations:  8\n",
      "String:  1000 operations:  9\n",
      "String:  100 operations:  10\n",
      "String:  10 operations:  11\n",
      "solution:  12 \n",
      "\n"
     ]
    }
   ],
   "source": [
    "# %%time\n",
    "#import random\n",
    "\n",
    "# for i in range(1, 10):\n",
    "#     print('for i=', i,'solution: ', solution(str(i)), '\\n')\n",
    "#print('solution: ', solution(str(random.randint(0,100))), '\\n')\n",
    "\n",
    "print('solution: ', solution(str(235)), '\\n')"
   ]
  },
  {
   "cell_type": "code",
   "execution_count": null,
   "metadata": {},
   "outputs": [],
   "source": []
  },
  {
   "cell_type": "code",
   "execution_count": null,
   "metadata": {},
   "outputs": [],
   "source": []
  },
  {
   "cell_type": "code",
   "execution_count": null,
   "metadata": {},
   "outputs": [],
   "source": []
  },
  {
   "cell_type": "code",
   "execution_count": 80,
   "metadata": {},
   "outputs": [
    {
     "data": {
      "text/plain": [
       "'1001'"
      ]
     },
     "execution_count": 80,
     "metadata": {},
     "output_type": "execute_result"
    }
   ],
   "source": [
    "convert_str('9')"
   ]
  },
  {
   "cell_type": "code",
   "execution_count": 64,
   "metadata": {
    "scrolled": false
   },
   "outputs": [
    {
     "data": {
      "text/plain": [
       "'1010'"
      ]
     },
     "execution_count": 64,
     "metadata": {},
     "output_type": "execute_result"
    }
   ],
   "source": [
    "convert_str('10')"
   ]
  },
  {
   "cell_type": "code",
   "execution_count": 10,
   "metadata": {},
   "outputs": [
    {
     "data": {
      "text/plain": [
       "'999999999999999999999999999999999999999999999999999999999999999999999999999999999999999999999999999999999999999999999999999999999999999999999999999999999999999999999999999999999999999999999999999999999999999999999999999999999999999999999999999999999999999999999999999999999999999999999999999999999999999999999'"
      ]
     },
     "execution_count": 10,
     "metadata": {},
     "output_type": "execute_result"
    }
   ],
   "source": [
    "'9' * 10"
   ]
  },
  {
   "cell_type": "code",
   "execution_count": null,
   "metadata": {},
   "outputs": [],
   "source": []
  },
  {
   "cell_type": "code",
   "execution_count": null,
   "metadata": {},
   "outputs": [],
   "source": []
  },
  {
   "cell_type": "code",
   "execution_count": 76,
   "metadata": {},
   "outputs": [
    {
     "name": "stdout",
     "output_type": "stream",
     "text": [
      "1001\n"
     ]
    }
   ],
   "source": [
    "def oddsToOne(s):\n",
    "    if s.endswith('1'): return 1\n",
    "    if s.endswith('3'): return 1\n",
    "    if s.endswith('5'): return 1\n",
    "    if s.endswith('7'): return 1\n",
    "    if s.endswith('9'): return 1\n",
    "    return 0\n",
    "\n",
    "def divByTwo(s):\n",
    "    new_s = ''\n",
    "    add = 0\n",
    "\n",
    "    for ch in s:\n",
    "        new_dgt = (ord(ch) - ord('0')) // 2 + add\n",
    "        new_s = '%s%d' % (new_s, new_dgt)\n",
    "        add = oddsToOne(ch) * 5\n",
    "\n",
    "    if new_s != '0' and new_s.startswith('0'):\n",
    "        new_s = new_s[1:]\n",
    "\n",
    "    return new_s\n",
    "\n",
    "num = '9'\n",
    "\n",
    "if num == '0':\n",
    "    stack = '0'\n",
    "else:\n",
    "    stack = ''\n",
    "    while num != '0':\n",
    "        stack = '%d%s'%(oddsToOne(num), stack)\n",
    "        num = divByTwo (num)\n",
    "\n",
    "print(stack)"
   ]
  },
  {
   "cell_type": "code",
   "execution_count": 47,
   "metadata": {},
   "outputs": [],
   "source": []
  },
  {
   "cell_type": "code",
   "execution_count": null,
   "metadata": {},
   "outputs": [],
   "source": []
  },
  {
   "cell_type": "code",
   "execution_count": null,
   "metadata": {},
   "outputs": [],
   "source": []
  },
  {
   "cell_type": "markdown",
   "metadata": {},
   "source": [
    "<pre>\n",
    "Fuel Injection Perfection\n",
    "=========================\n",
    "\n",
    "Commander Lambda has asked for your help to refine the automatic quantum antimatter fuel injection system for the LAMBCHOP doomsday device. It's a great chance for you to get a closer look at the LAMBCHOP -- and maybe sneak in a bit of sabotage while you're at it -- so you took the job gladly. \n",
    "\n",
    "Quantum antimatter fuel comes in small pellets, which is convenient since the many moving parts of the LAMBCHOP each need to be fed fuel one pellet at a time. However, minions dump pellets in bulk into the fuel intake. You need to figure out the most efficient way to sort and shift the pellets down to a single pellet at a time. \n",
    "\n",
    "The fuel control mechanisms have three operations: \n",
    "\n",
    "1) Add one fuel pellet\n",
    "2) Remove one fuel pellet\n",
    "3) Divide the entire group of fuel pellets by 2 (due to the destructive energy released when a quantum antimatter pellet is cut in half, the safety controls will only allow this to happen if there is an even number of pellets)\n",
    "\n",
    "Write a function called solution(n) which takes a positive integer as a string and returns the minimum number of operations needed to transform the number of pellets to 1. The fuel intake control panel can only display a number up to 309 digits long, so there won't ever be more pellets than you can express in that many digits.\n",
    "\n",
    "For example:\n",
    "solution(4) returns 2: 4 -> 2 -> 1\n",
    "solution(15) returns 5: 15 -> 16 -> 8 -> 4 -> 2 -> 1\n",
    "\n",
    "Languages\n",
    "=========\n",
    "\n",
    "To provide a Python solution, edit solution.py\n",
    "To provide a Java solution, edit Solution.java\n",
    "\n",
    "Test cases\n",
    "==========\n",
    "Your code should pass the following test cases.\n",
    "Note that it may also be run against hidden test cases not shown here.\n",
    "\n",
    "-- Python cases --\n",
    "Input:\n",
    "solution.solution('15')\n",
    "Output:\n",
    "    5\n",
    "\n",
    "Input:\n",
    "solution.solution('4')\n",
    "Output:\n",
    "    2\n",
    "\n",
    "-- Java cases --\n",
    "Input:\n",
    "Solution.solution('4')\n",
    "Output:\n",
    "    2\n",
    "\n",
    "Input:\n",
    "Solution.solution('15')\n",
    "Output:\n",
    "    5\n",
    "</pre>"
   ]
  }
 ],
 "metadata": {
  "kernelspec": {
   "display_name": "Python 3",
   "language": "python",
   "name": "python3"
  },
  "language_info": {
   "codemirror_mode": {
    "name": "ipython",
    "version": 3
   },
   "file_extension": ".py",
   "mimetype": "text/x-python",
   "name": "python",
   "nbconvert_exporter": "python",
   "pygments_lexer": "ipython3",
   "version": "3.8.10"
  }
 },
 "nbformat": 4,
 "nbformat_minor": 4
}
