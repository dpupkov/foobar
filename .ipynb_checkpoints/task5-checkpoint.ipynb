{
 "cells": [
  {
   "cell_type": "code",
   "execution_count": 1,
   "metadata": {},
   "outputs": [],
   "source": [
    "%load_ext pycodestyle_magic"
   ]
  },
  {
   "cell_type": "code",
   "execution_count": 2,
   "metadata": {},
   "outputs": [
    {
     "name": "stderr",
     "output_type": "stream",
     "text": [
      "UsageError: %%pycodestyle is a cell magic, but the cell body is empty.\n"
     ]
    }
   ],
   "source": [
    "%%pycodestyle"
   ]
  },
  {
   "cell_type": "code",
   "execution_count": 245,
   "metadata": {},
   "outputs": [],
   "source": [
    "#%%pycodestyle\n",
    "\"\"\"Foobar task # 5 \"Disorderly Escape\"\n",
    "\n",
    "    Write a function solution(w, h, s) that takes 3 integers and returns\n",
    "    the number of unique, non-equivalent configurations that can be found\n",
    "    on a star grid w blocks wide and h blocks tall where each celestial body\n",
    "    has s possible states. Equivalency is defined as above: any two star grids\n",
    "    with each celestial body in the same state where the actual order of the\n",
    "    rows and columns do not matter (and can thus be freely swapped around).\n",
    "    Star grid standardization means that the width and height of the grid\n",
    "    will always be between 1 and 12, inclusive. And while there are a variety\n",
    "    of celestial bodies in each grid, the number of states of those bodies is\n",
    "    between 2 and 20, inclusive. The solution can be over 20 digits long,\n",
    "    so return it as a decimal string.  The intermediate values can also be\n",
    "    large, so you will likely need to use at least 64-bit integers.\n",
    "\"\"\"\n",
    "\n",
    "from collections import Counter\n",
    "from math import factorial, gcd\n",
    "# from fractions import gcd\n",
    "\n",
    "\n",
    "def solution(w, h, s):\n",
    "    \"\"\"Using Redfield-Polya counting theorem to solve the problem\n",
    "    \"\"\"\n",
    "    grid = 0\n",
    "    for pw in partitions(w, 1):\n",
    "        for ph in partitions(h, 1):\n",
    "            m = count(pw, w) * count(ph, h)\n",
    "            sum_elements = sum([sum([gcd(i, j) for i in pw]) for j in ph])\n",
    "            grid += m * (s ** sum_elements)\n",
    "    return str(grid / (factorial(w) * factorial(h)))\n",
    "\n",
    "\n",
    "def count(c, n):\n",
    "    cnt = factorial(n)\n",
    "    for a, b in Counter(c).items():\n",
    "        cnt /= (a**b) * factorial(b)\n",
    "    return cnt\n",
    "\n",
    "\n",
    "def partitions(n, i):\n",
    "    \"\"\"Returning all integer partitions with a generator\"\"\"\n",
    "    yield [n]\n",
    "    for i in range(i, n//2 + 1):\n",
    "        for p in partitions(n-i, i):\n",
    "            yield [i] + p\n"
   ]
  },
  {
   "cell_type": "code",
   "execution_count": 243,
   "metadata": {},
   "outputs": [
    {
     "name": "stdout",
     "output_type": "stream",
     "text": [
      "430.0\n",
      "CPU times: user 860 µs, sys: 0 ns, total: 860 µs\n",
      "Wall time: 723 µs\n"
     ]
    }
   ],
   "source": [
    "%%time\n",
    "result = solution(2, 3, 4)\n",
    "\n",
    "if result == '430':\n",
    "    print('Test case #1 completed')\n",
    "else:\n",
    "    print(result)"
   ]
  },
  {
   "cell_type": "code",
   "execution_count": 178,
   "metadata": {},
   "outputs": [
    {
     "name": "stdout",
     "output_type": "stream",
     "text": [
      "1.60707601877411e+60\n",
      "1.2204229185011708e+47\n",
      "CPU times: user 72.5 ms, sys: 0 ns, total: 72.5 ms\n",
      "Wall time: 69.2 ms\n"
     ]
    }
   ],
   "source": [
    "%%time\n",
    "result = solution(10, 10, 4)\n",
    "\n",
    "if result == '430':\n",
    "    print('Test case #1 completed')\n",
    "else:\n",
    "    print(result)"
   ]
  },
  {
   "cell_type": "code",
   "execution_count": 201,
   "metadata": {},
   "outputs": [],
   "source": [
    "def accel_asc(n):\n",
    "    return set(accel_asc_yield(n))\n",
    "\n",
    "\n",
    "def accel_asc_yield(n):\n",
    "    a = [0] * (n + 1)\n",
    "    k = 1\n",
    "    y = n - 1\n",
    "    while k:\n",
    "        x = a[k - 1] + 1\n",
    "        k -= 1\n",
    "        while 2 * x <= y:\n",
    "            a[k] = x\n",
    "            y -= x\n",
    "            k += 1\n",
    "        l = k + 1\n",
    "        while x <= y:\n",
    "            a[k] = x\n",
    "            a[l] = y\n",
    "            yield tuple(a[: k + 2])\n",
    "            x += 1\n",
    "            y -= 1\n",
    "        a[k] = x + y\n",
    "        y = x + y - 1\n",
    "        yield tuple(a[: k + 1])"
   ]
  },
  {
   "cell_type": "code",
   "execution_count": 144,
   "metadata": {},
   "outputs": [
    {
     "name": "stdout",
     "output_type": "stream",
     "text": [
      "28.0\n",
      "7.0\n",
      "CPU times: user 1.19 ms, sys: 0 ns, total: 1.19 ms\n",
      "Wall time: 1.02 ms\n"
     ]
    }
   ],
   "source": [
    "%%time\n",
    "result = solution(2, 2, 2)\n",
    "\n",
    "if result == '7':\n",
    "    print('Test case #2 completed')\n",
    "else: \n",
    "    print(result)"
   ]
  },
  {
   "cell_type": "code",
   "execution_count": 147,
   "metadata": {},
   "outputs": [
    {
     "name": "stdout",
     "output_type": "stream",
     "text": [
      "28.0\n",
      "7.0\n",
      "CPU times: user 856 µs, sys: 0 ns, total: 856 µs\n",
      "Wall time: 674 µs\n"
     ]
    }
   ],
   "source": [
    "%%time\n",
    "result = solution(2, 2, 2)\n",
    "\n",
    "if result == '7':\n",
    "    print('Test case #2 completed')\n",
    "else: \n",
    "    print(result)"
   ]
  },
  {
   "cell_type": "code",
   "execution_count": 39,
   "metadata": {},
   "outputs": [],
   "source": [
    "from collections import Counter\n",
    "\n",
    "def solution(w, h, s):    \n",
    "    grid=0\n",
    "    for pw in partitions(w):\n",
    "        for ph in partitions(h):            \n",
    "            m=count(pw, w)*count(ph, h)\n",
    "            grid+=m*(s**sum([sum([gcd(i, j) for i in pw]) for j in ph]))\n",
    "    \n",
    "    return grid/(factorial(w)*factorial(h))\n",
    "    \n",
    "def count(c, n):\n",
    "    cnt=factorial(n)\n",
    "    for a, b in Counter(c).items():\n",
    "        cnt//=(a**b)*factorial(b)\n",
    "    return cnt        \n",
    "\n",
    "def partitions(n, i=1):\n",
    "    yield [n]\n",
    "    for i in range(i, n//2 + 1):\n",
    "        for p in partitions(n-i, i):\n",
    "            yield [i] + p\n",
    "\n",
    "def gcd(x,y):\n",
    "    while y:\n",
    "        x,y=y,x%y\n",
    "    return x\n",
    "\n",
    "def factorial(n):\n",
    "    if n==0:\n",
    "        return 1\n",
    "    else:\n",
    "        return n*factorial(n-1)"
   ]
  },
  {
   "cell_type": "markdown",
   "metadata": {},
   "source": [
    "<pre>\n",
    "Disorderly Escape\n",
    "=================\n",
    "\n",
    "Oh no! You've managed to free the bunny workers and escape Commander Lambdas exploding space station, but Lambda's team of elite starfighters has flanked your ship. If you dont jump to hyperspace, and fast, youll be shot out of the sky!\n",
    "\n",
    "Problem is, to avoid detection by galactic law enforcement, Commander Lambda planted the space station in the middle of a quasar quantum flux field. In order to make the jump to hyperspace, you need to know the configuration of celestial bodies in the quadrant you plan to jump through. In order to do *that*, you need to figure out how many configurations each quadrant could possibly have, so that you can pick the optimal quadrant through which youll make your jump. \n",
    "\n",
    "There's something important to note about quasar quantum flux fields' configurations: when drawn on a star grid, configurations are considered equivalent by grouping rather than by order. That is, for a given set of configurations, if you exchange the position of any two columns or any two rows some number of times, youll find that all of those configurations are equivalent in that way -- in grouping, rather than order.\n",
    "\n",
    "Write a function solution(w, h, s) that takes 3 integers and returns the number of unique, non-equivalent configurations that can be found on a star grid w blocks wide and h blocks tall where each celestial body has s possible states. Equivalency is defined as above: any two star grids with each celestial body in the same state where the actual order of the rows and columns do not matter (and can thus be freely swapped around). Star grid standardization means that the width and height of the grid will always be between 1 and 12, inclusive. And while there are a variety of celestial bodies in each grid, the number of states of those bodies is between 2 and 20, inclusive. The solution can be over 20 digits long, so return it as a decimal string.  The intermediate values can also be large, so you will likely need to use at least 64-bit integers.\n",
    "\n",
    "For example, consider w=2, h=2, s=2. We have a 2x2 grid where each celestial body is either in state 0 (for instance, silent) or state 1 (for instance, noisy).  We can examine which grids are equivalent by swapping rows and columns.\n",
    "\n",
    "00\n",
    "00\n",
    "\n",
    "In the above configuration, all celestial bodies are \"silent\" - that is, they have a state of 0 - so any swap of row or column would keep it in the same state.\n",
    "\n",
    "00 00 01 10\n",
    "01 10 00 00\n",
    "\n",
    "1 celestial body is emitting noise - that is, has a state of 1 - so swapping rows and columns can put it in any of the 4 positions.  All four of the above configurations are equivalent.\n",
    "\n",
    "00 11\n",
    "11 00\n",
    "\n",
    "2 celestial bodies are emitting noise side-by-side.  Swapping columns leaves them unchanged, and swapping rows simply moves them between the top and bottom.  In both, the *groupings* are the same: one row with two bodies in state 0, one row with two bodies in state 1, and two columns with one of each state.\n",
    "\n",
    "01 10\n",
    "01 10\n",
    "\n",
    "2 noisy celestial bodies adjacent vertically. This is symmetric to the side-by-side case, but it is different because there's no way to transpose the grid.\n",
    "\n",
    "01 10\n",
    "10 01\n",
    "\n",
    "2 noisy celestial bodies diagonally.  Both have 2 rows and 2 columns that have one of each state, so they are equivalent to each other.\n",
    "\n",
    "01 10 11 11\n",
    "11 11 01 10\n",
    "\n",
    "3 noisy celestial bodies, similar to the case where only one of four is noisy.\n",
    "\n",
    "11\n",
    "11\n",
    "\n",
    "4 noisy celestial bodies.\n",
    "\n",
    "There are 7 distinct, non-equivalent grids in total, so solution(2, 2, 2) would return 7.\n",
    "\n",
    "Languages\n",
    "=========\n",
    "\n",
    "To provide a Java solution, edit Solution.java\n",
    "To provide a Python solution, edit solution.py\n",
    "\n",
    "Test cases\n",
    "==========\n",
    "Your code should pass the following test cases.\n",
    "Note that it may also be run against hidden test cases not shown here.\n",
    "\n",
    "-- Java cases --\n",
    "Input:\n",
    "Solution.solution(2, 3, 4)\n",
    "Output:\n",
    "    430\n",
    "\n",
    "Input:\n",
    "Solution.solution(2, 2, 2)\n",
    "Output:\n",
    "    7\n",
    "\n",
    "-- Python cases --\n",
    "Input:\n",
    "solution.solution(2, 3, 4)\n",
    "Output:\n",
    "    430\n",
    "\n",
    "Input:\n",
    "solution.solution(2, 2, 2)\n",
    "Output:\n",
    "    7\n",
    "\n",
    "</pre>"
   ]
  }
 ],
 "metadata": {
  "kernelspec": {
   "display_name": "Python 3",
   "language": "python",
   "name": "python3"
  },
  "language_info": {
   "codemirror_mode": {
    "name": "ipython",
    "version": 3
   },
   "file_extension": ".py",
   "mimetype": "text/x-python",
   "name": "python",
   "nbconvert_exporter": "python",
   "pygments_lexer": "ipython3",
   "version": "3.8.10"
  }
 },
 "nbformat": 4,
 "nbformat_minor": 4
}
