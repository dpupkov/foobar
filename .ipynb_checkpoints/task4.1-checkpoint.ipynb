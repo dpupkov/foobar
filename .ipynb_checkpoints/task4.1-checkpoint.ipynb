{
 "cells": [
  {
   "cell_type": "code",
   "execution_count": null,
   "metadata": {},
   "outputs": [],
   "source": [
    "# FINAL COPY:\n",
    "\n",
    "import copy\n",
    "\n",
    "def main_game(entrances, exits, path, corridors_indexes, current_count, best_result):\n",
    "\n",
    "# running down by list of corridors\n",
    "    for cr in corridors_indexes:\n",
    "        \n",
    "# running down by each corridor array\n",
    "        for i in [l for l in range(len(path)) if (l not in entrances)]:\n",
    "            \n",
    "# spare capacity? let's run down..\n",
    "            if path[cr][i] != 0:\n",
    "# checking if we can add bunny into this corridor from homies or from another corridor:\n",
    "                for origin in  entrances + corridors_indexes:\n",
    "                    if path[origin][cr] != 0:\n",
    "# if success then increasing result\n",
    "                        if origin in entrances:\n",
    "                            current_bunnies = min (path[cr][i], path[origin][cr])\n",
    "                        else:\n",
    "                            current_bunnies = 0\n",
    "# going deep into recursion\n",
    "                        p1 = copy.deepcopy(path)\n",
    "                        p1[cr][i] = 0\n",
    "                        p1[origin][cr] = 0\n",
    "                        new_count = main_game(entrances, exits, p1, corridors_indexes, current_count + current_bunnies, best_result)\n",
    "                        if new_count > best_result:\n",
    "                            best_result = new_count\n",
    "# getting out of recurrsion:\n",
    "    if current_count > best_result:\n",
    "        best_result = current_count\n",
    "    return(best_result)\n",
    "\n",
    "def solution(entrances, exits, path):\n",
    "\n",
    "    corridors_indexes = [i for i in range(len(path)) if (i not in entrances) and (i not in exits)]\n",
    "    result = main_game(entrances, exits, path, corridors_indexes, 0, 0)\n",
    "    return(result)\n",
    "\n",
    "\n",
    "r = solution([0, 1], [4, 5], [[0, 0, 4, 6, 0, 0], [0, 0, 5, 2, 0, 0], [0, 0, 0, 0, 4, 4], [0, 0, 0, 0, 6, 6], [0, 0, 0, 0, 0, 0], [0, 0, 0, 0, 0, 0]])\n",
    "\n",
    "print(r)\n",
    "\n",
    "r = solution([0], [3], [[0, 7, 0, 0], [0, 0, 6, 0], [0, 0, 0, 8], [9, 0, 0, 0]])\n",
    "\n",
    "print(r)\n",
    "\n"
   ]
  },
  {
   "cell_type": "code",
   "execution_count": 155,
   "metadata": {},
   "outputs": [],
   "source": [
    "import copy"
   ]
  },
  {
   "cell_type": "code",
   "execution_count": 223,
   "metadata": {},
   "outputs": [],
   "source": [
    "def max_corridor(path, corridors_indexes):\n",
    "    max_value = 0\n",
    "    max_index = (0, 0)\n",
    "    \n",
    "    \n",
    "    for i in corridors_indexes:\n",
    "        m = max(path[i])\n",
    "        if m > max_value:\n",
    "            max_value = m\n",
    "            max_index = (i, path[i].index(max_value))\n",
    "        \n",
    "    return max_value, max_index"
   ]
  },
  {
   "cell_type": "code",
   "execution_count": 225,
   "metadata": {},
   "outputs": [],
   "source": [
    "def solution(entrances, exits, path):\n",
    "    \n",
    "    corridors_indexes = [i for i in range(len(path)) if (i not in entrances) and (i not in exits)]\n",
    "    corridors = [path[j] for j in corridors_indexes]\n",
    "    \n",
    "    ent = [path[j] for j in entrances]\n",
    "#    print(ent)\n",
    "\n",
    "    ext = [path[j] for j in exits]\n",
    "#    print(ext)\n",
    "    \n",
    "    result = main_game(entrances, exits, path, 0, 0)\n",
    "    return(result)\n",
    "#    print('Final result: ', result)\n",
    "    \n",
    "#    max_value, max_index = max_corridor(path, corridors_indexes)\n"
   ]
  },
  {
   "cell_type": "code",
   "execution_count": 222,
   "metadata": {},
   "outputs": [],
   "source": [
    "def main_game(entrances, exits, path, current_count, best_result):\n",
    "    \n",
    "# спускаемся по коридорам    \n",
    "    for cr in corridors_indexes:\n",
    "\n",
    "# идём по строчке с корридорами:        \n",
    "        for i in [l for l in range(len(path)) if (l not in entrances)]:\n",
    "            \n",
    "# если в коридор можно отправить bunny != 0            \n",
    "            if path[cr][i] != 0:\n",
    "#                print('cr: ', cr, 'i: ', i)\n",
    "#                print('value: ', path[cr][i])\n",
    "                \n",
    "# смотрим откуда можно его отправить:                \n",
    "                for origin in  entrances + corridors_indexes:\n",
    "#                    print('origin: ', origin)\n",
    "\n",
    "# нашли непустой домик:            \n",
    "                    if path[origin][cr] != 0:\n",
    "#                        print('path[cr][i]: ', path[cr][i])\n",
    "#                        print('origin: ', origin)\n",
    "# исходный домик:\n",
    "#                        print('path[origin][cr]: ', path[origin][cr])\n",
    "    \n",
    "# проверяем, что это не другой коридор, а исходный домик    \n",
    "                        if origin in entrances:\n",
    "                            current_bunnies = min (path[cr][i], path[origin][cr])\n",
    "                        else:\n",
    "                            current_bunnies = 0\n",
    "# делаем обновлённую копию матрицы:            \n",
    "                        p1 = copy.deepcopy(path)\n",
    "# помечаем нулями (вытащили bunny из домика, провели по коридору)    \n",
    "                        p1[cr][i] = 0\n",
    "                        p1[origin][cr] = 0\n",
    "#                        print('Getting into next itteration with.................')\n",
    "#                        for p1_print in p1:\n",
    "#                            print(p1_print)\n",
    "# запускаю проверку once again, с почищенным коридором\n",
    "#                        print('BEFORE current_count = ', current_count, ' best_result = ', best_result)\n",
    "                        new_count = main_game(entrances, exits, p1, current_count + current_bunnies, best_result)\n",
    "                        if new_count > best_result:\n",
    "                            best_result = new_count\n",
    "#                        print('AFTER new_count = ', new_count, ' best_result = ', best_result)\n",
    "#                        print(path[origin][cr])\n",
    "    if current_count > best_result:\n",
    "        best_result = current_count\n",
    "    return(best_result)"
   ]
  },
  {
   "cell_type": "code",
   "execution_count": 164,
   "metadata": {},
   "outputs": [
    {
     "data": {
      "text/plain": [
       "[2, 3, 4, 5]"
      ]
     },
     "execution_count": 164,
     "metadata": {},
     "output_type": "execute_result"
    }
   ],
   "source": [
    "[l for l in range(len(path)) if (l not in entrances)]"
   ]
  },
  {
   "cell_type": "code",
   "execution_count": 226,
   "metadata": {
    "scrolled": false
   },
   "outputs": [
    {
     "name": "stdout",
     "output_type": "stream",
     "text": [
      "Final result: 16\n"
     ]
    }
   ],
   "source": [
    "corridors_indexes = [i for i in range(len(path)) if (i not in entrances) and (i not in exits)]\n",
    "corridors = [path[j] for j in corridors_indexes]\n",
    "\n",
    "r = solution(entrances, exits, path)\n",
    "print('Final result:', r)"
   ]
  },
  {
   "cell_type": "code",
   "execution_count": 161,
   "metadata": {},
   "outputs": [],
   "source": [
    "#test case #2 --- output 16\n",
    "entrances, exits, path = ([0, 1], \n",
    "         [4, 5], \n",
    "         [[0, 0, 4, 6, 0, 0], #homies\n",
    "          [0, 0, 5, 2, 0, 0], #homies\n",
    "          [0, 0, 0, 0, 4, 4], #\n",
    "          [0, 0, 0, 0, 6, 6], #\n",
    "          [0, 0, 0, 0, 0, 0], #escape pods\n",
    "          [0, 0, 0, 0, 0, 0]  #escape pods\n",
    "         ])\n",
    "#solution(entrances, exits, path)"
   ]
  },
  {
   "cell_type": "code",
   "execution_count": 138,
   "metadata": {},
   "outputs": [],
   "source": [
    "#test case #1 --- output 6\n",
    "entrances, exits, path = ([0], \n",
    "                          [3], \n",
    "                          [[0, 7, 0, 0], #homies\n",
    "                           [0, 0, 6, 0], #\n",
    "                           [0, 0, 0, 8], #\n",
    "                           [9, 0, 0, 0]] #escape pods\n",
    "                         )\n",
    "#solution(entrances, exits, path)"
   ]
  },
  {
   "cell_type": "code",
   "execution_count": 135,
   "metadata": {},
   "outputs": [
    {
     "name": "stdout",
     "output_type": "stream",
     "text": [
      "0\n",
      "8\n"
     ]
    }
   ],
   "source": [
    "#corridors = range(len(path))\n",
    "corridors_indexes = [i for i in range(len(path)) if (i not in entrances) and (i not in exits)]\n",
    "corridors = [path[j] for j in corridors_indexes]\n",
    "\n",
    "for l in [path[x] for x in corridors_indexes]:\n",
    "    for j in exits:\n",
    "        print(l[j])"
   ]
  },
  {
   "cell_type": "code",
   "execution_count": 90,
   "metadata": {},
   "outputs": [
    {
     "data": {
      "text/plain": [
       "[[0, 0, 0, 0, 4, 4], [0, 0, 0, 0, 6, 6]]"
      ]
     },
     "execution_count": 90,
     "metadata": {},
     "output_type": "execute_result"
    }
   ],
   "source": [
    "corridors"
   ]
  },
  {
   "cell_type": "code",
   "execution_count": 83,
   "metadata": {},
   "outputs": [
    {
     "name": "stdout",
     "output_type": "stream",
     "text": [
      "[[0, 0, 4, 6, 0, 0], [0, 0, 5, 2, 0, 0]]\n",
      "[[0, 0, 0, 0, 0, 0], [0, 0, 0, 0, 0, 0]]\n"
     ]
    }
   ],
   "source": [
    "ent = [path[j] for j in entrances]\n",
    "print(ent)\n",
    "\n",
    "ext = [path[j] for j in exits]\n",
    "print(ext)"
   ]
  },
  {
   "cell_type": "markdown",
   "metadata": {},
   "source": [
    "<pre>\n",
    "Escape Pods\n",
    "===========\n",
    "\n",
    "You've blown up the LAMBCHOP doomsday device and relieved the bunnies of their work duries -- and now you need to escape from the space station as quickly and as orderly as possible! The bunnies have all gathered in various locations throughout the station, and need to make their way towards the seemingly endless amount of escape pods positioned in other parts of the station. You need to get the numerous bunnies through the various rooms to the escape pods. Unfortunately, the corridors between the rooms can only fit so many bunnies at a time. What's more, many of the corridors were resized to accommodate the LAMBCHOP, so they vary in how many bunnies can move through them at a time. \n",
    "\n",
    "Given the starting room numbers of the groups of bunnies, the room numbers of the escape pods, and how many bunnies can fit through at a time in each direction of every corridor in between, figure out how many bunnies can safely make it to the escape pods at a time at peak.\n",
    "\n",
    "Write a function solution(entrances, exits, path) that takes an array of integers denoting where the groups of gathered bunnies are, an array of integers denoting where the escape pods are located, and an array of an array of integers of the corridors, returning the total number of bunnies that can get through at each time step as an int. The entrances and exits are disjoint and thus will never overlap. The path element path[A][B] = C describes that the corridor going from A to B can fit C bunnies at each time step.  There are at most 50 rooms connected by the corridors and at most 2000000 bunnies that will fit at a time.\n",
    "\n",
    "For example, if you have:\n",
    "entrances = [0, 1]\n",
    "exits = [4, 5]\n",
    "path = [\n",
    "  [0, 0, 4, 6, 0, 0],  # Room 0: Bunnies\n",
    "  [0, 0, 5, 2, 0, 0],  # Room 1: Bunnies\n",
    "  [0, 0, 0, 0, 4, 4],  # Room 2: Intermediate room\n",
    "  [0, 0, 0, 0, 6, 6],  # Room 3: Intermediate room\n",
    "  [0, 0, 0, 0, 0, 0],  # Room 4: Escape pods\n",
    "  [0, 0, 0, 0, 0, 0],  # Room 5: Escape pods\n",
    "]\n",
    "\n",
    "Then in each time step, the following might happen:\n",
    "0 sends 4/4 bunnies to 2 and 6/6 bunnies to 3\n",
    "1 sends 4/5 bunnies to 2 and 2/2 bunnies to 3\n",
    "2 sends 4/4 bunnies to 4 and 4/4 bunnies to 5\n",
    "3 sends 4/6 bunnies to 4 and 4/6 bunnies to 5\n",
    "\n",
    "So, in total, 16 bunnies could make it to the escape pods at 4 and 5 at each time step.  (Note that in this example, room 3 could have sent any variation of 8 bunnies to 4 and 5, such as 2/6 and 6/6, but the final solution remains the same.)\n",
    "\n",
    "Languages\n",
    "=========\n",
    "\n",
    "To provide a Java solution, edit Solution.java\n",
    "To provide a Python solution, edit solution.py\n",
    "\n",
    "Test cases\n",
    "==========\n",
    "Your code should pass the following test cases.\n",
    "Note that it may also be run against hidden test cases not shown here.\n",
    "\n",
    "-- Java cases --\n",
    "Input:\n",
    "Solution.solution({0, 1}, {4, 5}, {{0, 0, 4, 6, 0, 0}, {0, 0, 5, 2, 0, 0}, {0, 0, 0, 0, 4, 4}, {0, 0, 0, 0, 6, 6}, {0, 0, 0, 0, 0, 0}, {0, 0, 0, 0, 0, 0}})\n",
    "Output:\n",
    "    16\n",
    "\n",
    "Input:\n",
    "Solution.solution({0}, {3}, {{0, 7, 0, 0}, {0, 0, 6, 0}, {0, 0, 0, 8}, {9, 0, 0, 0}})\n",
    "Output:\n",
    "    6\n",
    "\n",
    "-- Python cases --\n",
    "Input:\n",
    "solution.solution([0], [3], [[0, 7, 0, 0], [0, 0, 6, 0], [0, 0, 0, 8], [9, 0, 0, 0]])\n",
    "Output:\n",
    "    6\n",
    "\n",
    "Input:\n",
    "solution.solution([0, 1], [4, 5], [[0, 0, 4, 6, 0, 0], [0, 0, 5, 2, 0, 0], [0, 0, 0, 0, 4, 4], [0, 0, 0, 0, 6, 6], [0, 0, 0, 0, 0, 0], [0, 0, 0, 0, 0, 0]])\n",
    "Output:\n",
    "    16\n",
    "</pre>    "
   ]
  }
 ],
 "metadata": {
  "kernelspec": {
   "display_name": "Python 3",
   "language": "python",
   "name": "python3"
  },
  "language_info": {
   "codemirror_mode": {
    "name": "ipython",
    "version": 3
   },
   "file_extension": ".py",
   "mimetype": "text/x-python",
   "name": "python",
   "nbconvert_exporter": "python",
   "pygments_lexer": "ipython3",
   "version": "3.8.10"
  }
 },
 "nbformat": 4,
 "nbformat_minor": 4
}
