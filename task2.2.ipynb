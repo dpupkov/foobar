{
 "cells": [
  {
   "cell_type": "code",
   "execution_count": null,
   "metadata": {},
   "outputs": [],
   "source": [
    "import itertools"
   ]
  },
  {
   "cell_type": "code",
   "execution_count": 42,
   "metadata": {},
   "outputs": [],
   "source": [
    "def solution(l):\n",
    "    answer = 0\n",
    "    for i in range(1, len(l)+1):\n",
    "        for j in itertools.permutations(l, i):\n",
    "            a = int(''.join(str(e) for e in j))\n",
    "            if (a % 3 == 0) and a > answer:\n",
    "                answer = a\n",
    "    return answer"
   ]
  },
  {
   "cell_type": "code",
   "execution_count": 46,
   "metadata": {},
   "outputs": [
    {
     "name": "stdout",
     "output_type": "stream",
     "text": [
      "test case:  [3, 1, 4, 1]\n",
      "solution: 4311 \n",
      "\n",
      "test case:  [3, 1, 4, 1, 5, 9]\n",
      "solution: 94311 \n",
      "\n"
     ]
    }
   ],
   "source": [
    "cases = [[3, 1, 4, 1],\n",
    "         [3, 1, 4, 1, 5, 9]\n",
    "        ]\n",
    "for c in cases:\n",
    "    print('test case: ',c)\n",
    "    print('solution:',solution(c), '\\n')"
   ]
  },
  {
   "cell_type": "markdown",
   "metadata": {},
   "source": [
    "<pre>\n",
    "Please Pass the Coded Messages\n",
    "==============================\n",
    "\n",
    "You need to pass a message to the bunny workers, but to avoid detection, the code you agreed to use is... obscure, to say the least. The bunnies are given food on standard-issue plates that are stamped with the numbers 0-9 for easier sorting, and you need to combine sets of plates to create the numbers in the code. The signal that a number is part of the code is that it is divisible by 3. You can do smaller numbers like 15 and 45 easily, but bigger numbers like 144 and 414 are a little trickier. Write a program to help yourself quickly create large numbers for use in the code, given a limited number of plates to work with.\n",
    "\n",
    "You have L, a list containing some digits (0 to 9). Write a function solution(L) which finds the largest number that can be made from some or all of these digits and is divisible by 3. If it is not possible to make such a number, return 0 as the solution. L will contain anywhere from 1 to 9 digits.  The same digit may appear multiple times in the list, but each element in the list may only be used once.\n",
    "\n",
    "Languages\n",
    "=========\n",
    "\n",
    "To provide a Java solution, edit Solution.java\n",
    "To provide a Python solution, edit solution.py\n",
    "\n",
    "Test cases\n",
    "==========\n",
    "Your code should pass the following test cases.\n",
    "Note that it may also be run against hidden test cases not shown here.\n",
    "\n",
    "-- Java cases --\n",
    "Input:\n",
    "Solution.solution({3, 1, 4, 1})\n",
    "Output:\n",
    "    4311\n",
    "\n",
    "Input:\n",
    "Solution.solution({3, 1, 4, 1, 5, 9})\n",
    "Output:\n",
    "    94311\n",
    "\n",
    "-- Python cases --\n",
    "Input:\n",
    "solution.solution([3, 1, 4, 1])\n",
    "Output:\n",
    "    4311\n",
    "\n",
    "Input:\n",
    "solution.solution([3, 1, 4, 1, 5, 9])\n",
    "Output:\n",
    "    94311\n",
    "</pre>    "
   ]
  }
 ],
 "metadata": {
  "kernelspec": {
   "display_name": "Python 3",
   "language": "python",
   "name": "python3"
  },
  "language_info": {
   "codemirror_mode": {
    "name": "ipython",
    "version": 3
   },
   "file_extension": ".py",
   "mimetype": "text/x-python",
   "name": "python",
   "nbconvert_exporter": "python",
   "pygments_lexer": "ipython3",
   "version": "3.8.10"
  }
 },
 "nbformat": 4,
 "nbformat_minor": 4
}
